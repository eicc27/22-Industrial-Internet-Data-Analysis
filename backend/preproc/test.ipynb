{
 "cells": [
  {
   "cell_type": "code",
   "execution_count": 1,
   "metadata": {},
   "outputs": [
    {
     "name": "stdout",
     "output_type": "stream",
     "text": [
      "[\u001b[90mSun Dec 11 22:17:15 2022\u001b[0m] [\u001b[34minfo\u001b[0m] CSV file ../hp.csv detected.\n",
      "[\u001b[90mSun Dec 11 22:17:15 2022\u001b[0m] [\u001b[32mok\u001b[0m] Loaded dataset in ../hp.csv, head & first 2 rows:\n",
      "Index([' CRIM', 'ZN', 'INDUS', 'CHAS', 'NOX', 'RM', 'AGE', 'DIS', 'RAD', 'TAX',\n",
      "       'PTRATIO', 'B', 'LSTAT', 'MEDV'],\n",
      "      dtype='object')\n",
      "      CRIM    ZN  INDUS  CHAS    NOX     RM   AGE     DIS  RAD  TAX  PTRATIO  \\\n",
      "0  0.00632  18.0   2.31   0.0  0.538  6.575  65.2  4.0900    1  296     15.3   \n",
      "1  0.02731   0.0   7.07   0.0  0.469  6.421  78.9  4.9671    2  242     17.8   \n",
      "\n",
      "       B  LSTAT  MEDV  \n",
      "0  396.9   4.98  24.0  \n",
      "1  396.9   9.14  21.6  \n",
      "[' CRIM' 'ZN' 'INDUS' 'CHAS' 'NOX' 'RM' 'AGE' 'DIS' 'RAD' 'TAX' 'PTRATIO'\n",
      " 'B' 'LSTAT' 'MEDV']\n"
     ]
    }
   ],
   "source": [
    "from dataloader import Dataloader\n",
    "import numpy as np\n",
    "\n",
    "data  = Dataloader(\"../hp.csv\").load()\n",
    "labels = data.columns.values\n",
    "X = data.to_numpy()\n",
    "print(labels)"
   ]
  },
  {
   "cell_type": "code",
   "execution_count": 2,
   "metadata": {},
   "outputs": [
    {
     "name": "stdout",
     "output_type": "stream",
     "text": [
      "[\u001b[90mSun Dec 11 22:17:15 2022\u001b[0m] [\u001b[33mwarn\u001b[0m] The column(idx. 0) is not suitable for classification. Turned to RF-Regressor instead.\n",
      "[\u001b[90mSun Dec 11 22:17:15 2022\u001b[0m] [\u001b[33mwarn\u001b[0m] The column(idx. 1) is not suitable for classification. Turned to RF-Regressor instead.\n",
      "[\u001b[90mSun Dec 11 22:17:15 2022\u001b[0m] [\u001b[33mwarn\u001b[0m] The column(idx. 2) is not suitable for classification. Turned to RF-Regressor instead.\n",
      "[\u001b[90mSun Dec 11 22:17:15 2022\u001b[0m] [\u001b[33mwarn\u001b[0m] Every data in this column(idx. 4) has a value. Skipped.\n",
      "[\u001b[90mSun Dec 11 22:17:15 2022\u001b[0m] [\u001b[33mwarn\u001b[0m] Every data in this column(idx. 5) has a value. Skipped.\n",
      "[\u001b[90mSun Dec 11 22:17:15 2022\u001b[0m] [\u001b[33mwarn\u001b[0m] The column(idx. 6) is not suitable for classification. Turned to RF-Regressor instead.\n",
      "[\u001b[90mSun Dec 11 22:17:15 2022\u001b[0m] [\u001b[33mwarn\u001b[0m] Every data in this column(idx. 7) has a value. Skipped.\n",
      "[\u001b[90mSun Dec 11 22:17:15 2022\u001b[0m] [\u001b[33mwarn\u001b[0m] Every data in this column(idx. 8) has a value. Skipped.\n",
      "[\u001b[90mSun Dec 11 22:17:15 2022\u001b[0m] [\u001b[33mwarn\u001b[0m] Every data in this column(idx. 9) has a value. Skipped.\n",
      "[\u001b[90mSun Dec 11 22:17:15 2022\u001b[0m] [\u001b[33mwarn\u001b[0m] Every data in this column(idx. 10) has a value. Skipped.\n",
      "[\u001b[90mSun Dec 11 22:17:15 2022\u001b[0m] [\u001b[33mwarn\u001b[0m] Every data in this column(idx. 11) has a value. Skipped.\n",
      "[\u001b[90mSun Dec 11 22:17:15 2022\u001b[0m] [\u001b[33mwarn\u001b[0m] The column(idx. 12) is not suitable for classification. Turned to RF-Regressor instead.\n"
     ]
    }
   ],
   "source": [
    "from padding import Padding\n",
    "for i, _ in enumerate(labels[:-1]):\n",
    "    X = Padding(X, i, 'forestc').run()\n",
    "# import pandas as pd\n",
    "# pd.DataFrame(X).to_csv('./t.csv')"
   ]
  },
  {
   "cell_type": "code",
   "execution_count": 3,
   "metadata": {},
   "outputs": [],
   "source": [
    "from normalization import Norm\n",
    "for i, _ in enumerate(labels[:-1]):\n",
    "    if i == 3:\n",
    "        continue\n",
    "    X = Norm(X, i, 'zscore').run()\n",
    "# import pandas as pd\n",
    "# pd.DataFrame(X).to_csv('./t.csv')"
   ]
  },
  {
   "cell_type": "code",
   "execution_count": 4,
   "metadata": {},
   "outputs": [],
   "source": [
    "from sifting import Sifting\n",
    "idx = len(labels) - 1\n",
    "X = Sifting(X, 'if', idx).run()\n",
    "# import pandas as pd\n",
    "# pd.DataFrame(X).to_csv('./t.csv')"
   ]
  },
  {
   "cell_type": "code",
   "execution_count": 6,
   "metadata": {},
   "outputs": [
    {
     "data": {
      "text/plain": [
       "[('CHAS', 0.4976319851251112),\n",
       " ('DIS', 2.972860544090587e-10),\n",
       " ('ZN', 1.5573699054411592e-10),\n",
       " ('B', 5.067151903662879e-12),\n",
       " ('AGE', 3.982320799826701e-22),\n",
       " ('RAD', 5.9704332352262096e-24),\n",
       " (' CRIM', 1.31011796693041e-28),\n",
       " ('NOX', 4.788972562237238e-29),\n",
       " ('PTRATIO', 2.385161565292779e-30),\n",
       " ('INDUS', 6.969681398611578e-32),\n",
       " ('TAX', 6.518101189852844e-33),\n",
       " ('RM', 4.616331567567992e-58),\n",
       " ('LSTAT', 4.587697901001635e-83)]"
      ]
     },
     "execution_count": 6,
     "metadata": {},
     "output_type": "execute_result"
    }
   ],
   "source": [
    "from feature_selection import FeatureSelection\n",
    "FeatureSelection(X[:, :-1], labels[:-1], X[:, -1], 'pearson').run()"
   ]
  }
 ],
 "metadata": {
  "kernelspec": {
   "display_name": "Python 3.10.8 64-bit",
   "language": "python",
   "name": "python3"
  },
  "language_info": {
   "codemirror_mode": {
    "name": "ipython",
    "version": 3
   },
   "file_extension": ".py",
   "mimetype": "text/x-python",
   "name": "python",
   "nbconvert_exporter": "python",
   "pygments_lexer": "ipython3",
   "version": "3.10.8"
  },
  "orig_nbformat": 4,
  "vscode": {
   "interpreter": {
    "hash": "e7370f93d1d0cde622a1f8e1c04877d8463912d04d973331ad4851f04de6915a"
   }
  }
 },
 "nbformat": 4,
 "nbformat_minor": 2
}
