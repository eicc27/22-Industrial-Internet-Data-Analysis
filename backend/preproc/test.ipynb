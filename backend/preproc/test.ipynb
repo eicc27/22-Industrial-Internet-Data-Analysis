{
 "cells": [
  {
   "cell_type": "code",
   "execution_count": 6,
   "metadata": {},
   "outputs": [
    {
     "name": "stdout",
     "output_type": "stream",
     "text": [
      "[\u001b[90mFri Dec  9 01:08:24 2022\u001b[0m] [\u001b[34minfo\u001b[0m] CSV file ../hp.csv detected.\n",
      "[\u001b[90mFri Dec  9 01:08:24 2022\u001b[0m] [\u001b[32mok\u001b[0m] Loaded dataset in ../hp.csv, head & first 2 rows:\n",
      "Index([' CRIM', 'ZN', 'INDUS', 'CHAS', 'NOX', 'RM', 'AGE', 'DIS', 'RAD', 'TAX',\n",
      "       'PTRATIO', 'B', 'LSTAT', 'MEDV'],\n",
      "      dtype='object')\n",
      "      CRIM    ZN  INDUS  CHAS    NOX     RM   AGE     DIS  RAD  TAX  PTRATIO  \\\n",
      "0  0.00632  18.0   2.31   0.0  0.538  6.575  65.2  4.0900    1  296     15.3   \n",
      "1  0.02731   0.0   7.07   0.0  0.469  6.421  78.9  4.9671    2  242     17.8   \n",
      "\n",
      "       B  LSTAT  MEDV  \n",
      "0  396.9   4.98  24.0  \n",
      "1  396.9   9.14  21.6  \n",
      "nan\n"
     ]
    }
   ],
   "source": [
    "import numpy as np\n",
    "from dataloader import Dataloader\n",
    "data = Dataloader('../hp.csv').load().to_numpy()\n",
    "print(data[9][3])\n",
    "# data[np.isnan(data)] = 0\n",
    "# print(data[9][3])"
   ]
  },
  {
   "cell_type": "code",
   "execution_count": 11,
   "metadata": {},
   "outputs": [
    {
     "name": "stdout",
     "output_type": "stream",
     "text": [
      "(394, 8)\n"
     ]
    },
    {
     "data": {
      "text/plain": [
       "array([0.2, 0. , 0. , 0. , 0. , 0.2, 0.4, 0. , 0. , 0. , 0. , 0.2, 0. ,\n",
       "       0. , 0. , 0. , 0.2])"
      ]
     },
     "execution_count": 11,
     "metadata": {},
     "output_type": "execute_result"
    }
   ],
   "source": [
    "from utilities import Utils\n",
    "from sklearn.neighbors import KNeighborsClassifier\n",
    "rows, cols = Utils.filter_nnan(data)\n",
    "# cols.append(3) # predict column 3\n",
    "train_data = Utils.filter_by_rows(data, rows)\n",
    "train_data = Utils.filter_by_columns(train_data, cols)\n",
    "y = data[:, 3]\n",
    "print(train_data.shape)\n",
    "km = KNeighborsClassifier().fit(train_data, Utils.filter_by_rows(y, rows))\n",
    "prows, pcols = Utils.filter_nnan(data, ignore_features=[3])\n",
    "pred_data = Utils.filter_by_rows(data, prows)\n",
    "pred_data = pred_data[np.isnan(pred_data[:, 3])]\n",
    "pred_data = Utils.filter_by_columns(pred_data, cols)\n",
    "km.predict(pred_data)"
   ]
  }
 ],
 "metadata": {
  "kernelspec": {
   "display_name": "Python 3.10.8 64-bit",
   "language": "python",
   "name": "python3"
  },
  "language_info": {
   "codemirror_mode": {
    "name": "ipython",
    "version": 3
   },
   "file_extension": ".py",
   "mimetype": "text/x-python",
   "name": "python",
   "nbconvert_exporter": "python",
   "pygments_lexer": "ipython3",
   "version": "3.10.8"
  },
  "orig_nbformat": 4,
  "vscode": {
   "interpreter": {
    "hash": "e7370f93d1d0cde622a1f8e1c04877d8463912d04d973331ad4851f04de6915a"
   }
  }
 },
 "nbformat": 4,
 "nbformat_minor": 2
}
