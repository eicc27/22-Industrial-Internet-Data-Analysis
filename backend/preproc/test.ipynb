{
 "cells": [
  {
   "cell_type": "code",
   "execution_count": 9,
   "metadata": {},
   "outputs": [
    {
     "name": "stdout",
     "output_type": "stream",
     "text": [
      "[\u001b[90mSat Dec 24 15:04:16 2022\u001b[0m] [\u001b[34minfo\u001b[0m] CSV file ../../sample_data/hp.csv detected.\n",
      "[\u001b[90mSat Dec 24 15:04:16 2022\u001b[0m] [\u001b[32mok\u001b[0m] Loaded dataset in ../../sample_data/hp.csv, head & first 2 rows:\n",
      "Index([' CRIM', 'ZN', 'INDUS', 'CHAS', 'NOX', 'RM', 'AGE', 'DIS', 'RAD', 'TAX',\n",
      "       'PTRATIO', 'B', 'LSTAT', 'MEDV'],\n",
      "      dtype='object')\n",
      "      CRIM    ZN  INDUS  CHAS    NOX     RM   AGE     DIS  RAD  TAX  PTRATIO  \\\n",
      "0  0.00632  18.0   2.31   0.0  0.538  6.575  65.2  4.0900    1  296     15.3   \n",
      "1  0.02731   0.0   7.07   0.0  0.469  6.421  78.9  4.9671    2  242     17.8   \n",
      "\n",
      "       B  LSTAT  MEDV  \n",
      "0  396.9   4.98  24.0  \n",
      "1  396.9   9.14  21.6  \n",
      "[' CRIM' 'ZN' 'INDUS' 'CHAS' 'NOX' 'RM' 'AGE' 'DIS' 'RAD' 'TAX' 'PTRATIO'\n",
      " 'B' 'LSTAT' 'MEDV']\n"
     ]
    }
   ],
   "source": [
    "import numpy as np\n",
    "import os\n",
    "import sys\n",
    "sys.path.append(os.path.abspath('..'))\n",
    "from preproc.dataloader import Dataloader\n",
    "data  = Dataloader(\"../../sample_data/hp.csv\").load()\n",
    "labels = data.columns.values\n",
    "X = data.to_numpy()\n",
    "print(labels)"
   ]
  },
  {
   "cell_type": "code",
   "execution_count": 10,
   "metadata": {},
   "outputs": [
    {
     "name": "stdout",
     "output_type": "stream",
     "text": [
      "[\u001b[90mSat Dec 24 15:04:16 2022\u001b[0m] [\u001b[33mwarn\u001b[0m] The column(idx. 0) is not suitable for classification. Turned to RF-Regressor instead.\n",
      "[\u001b[90mSat Dec 24 15:04:16 2022\u001b[0m] [\u001b[33mwarn\u001b[0m] The column(idx. 1) is not suitable for classification. Turned to RF-Regressor instead.\n",
      "[\u001b[90mSat Dec 24 15:04:16 2022\u001b[0m] [\u001b[33mwarn\u001b[0m] The column(idx. 2) is not suitable for classification. Turned to RF-Regressor instead.\n",
      "[\u001b[90mSat Dec 24 15:04:16 2022\u001b[0m] [\u001b[33mwarn\u001b[0m] Every data in this column(idx. 4) has a value. Skipped.\n",
      "[\u001b[90mSat Dec 24 15:04:16 2022\u001b[0m] [\u001b[33mwarn\u001b[0m] Every data in this column(idx. 5) has a value. Skipped.\n",
      "[\u001b[90mSat Dec 24 15:04:16 2022\u001b[0m] [\u001b[33mwarn\u001b[0m] The column(idx. 6) is not suitable for classification. Turned to RF-Regressor instead.\n",
      "[\u001b[90mSat Dec 24 15:04:17 2022\u001b[0m] [\u001b[33mwarn\u001b[0m] Every data in this column(idx. 7) has a value. Skipped.\n",
      "[\u001b[90mSat Dec 24 15:04:17 2022\u001b[0m] [\u001b[33mwarn\u001b[0m] Every data in this column(idx. 8) has a value. Skipped.\n",
      "[\u001b[90mSat Dec 24 15:04:17 2022\u001b[0m] [\u001b[33mwarn\u001b[0m] Every data in this column(idx. 9) has a value. Skipped.\n",
      "[\u001b[90mSat Dec 24 15:04:17 2022\u001b[0m] [\u001b[33mwarn\u001b[0m] Every data in this column(idx. 10) has a value. Skipped.\n",
      "[\u001b[90mSat Dec 24 15:04:17 2022\u001b[0m] [\u001b[33mwarn\u001b[0m] Every data in this column(idx. 11) has a value. Skipped.\n",
      "[\u001b[90mSat Dec 24 15:04:17 2022\u001b[0m] [\u001b[33mwarn\u001b[0m] The column(idx. 12) is not suitable for classification. Turned to RF-Regressor instead.\n"
     ]
    }
   ],
   "source": [
    "from padding import Padding\n",
    "for i, _ in enumerate(labels[:-1]):\n",
    "    X = Padding(X, i, 'forestc').run()\n",
    "# import pandas as pd\n",
    "# pd.DataFrame(X).to_csv('./t.csv')"
   ]
  },
  {
   "cell_type": "code",
   "execution_count": 11,
   "metadata": {},
   "outputs": [],
   "source": [
    "from normalization import Norm\n",
    "for i, _ in enumerate(labels[:-1]):\n",
    "    if i == 3:\n",
    "        continue\n",
    "    X = Norm(X, i, 'zscore').run()\n",
    "# import pandas as pd\n",
    "# pd.DataFrame(X).to_csv('./t.csv')"
   ]
  },
  {
   "cell_type": "code",
   "execution_count": 12,
   "metadata": {},
   "outputs": [],
   "source": [
    "from sifting import Sifting\n",
    "idx = len(labels) - 1\n",
    "X = Sifting(X, 'if', idx).run()\n",
    "# import pandas as pd\n",
    "# pd.DataFrame(X).to_csv('./t.csv')"
   ]
  },
  {
   "cell_type": "code",
   "execution_count": 13,
   "metadata": {},
   "outputs": [
    {
     "data": {
      "text/plain": [
       "[('LSTAT', 0.6125586948093132),\n",
       " ('NOX', 0.4641217558108851),\n",
       " ('INDUS', 0.4607787757820918),\n",
       " ('RM', 0.4218563588761727),\n",
       " ('PTRATIO', 0.40816595370606434),\n",
       " ('TAX', 0.3483968060108217),\n",
       " ('RAD', 0.1960076927492212),\n",
       " ('ZN', 0.11685171684284497),\n",
       " (' CRIM', 0.10578806703246262),\n",
       " ('DIS', 0.06887645216791641),\n",
       " ('AGE', 0.0512221377296961),\n",
       " ('B', 0.025440310160357183),\n",
       " ('CHAS', -0.030923065568084017)]"
      ]
     },
     "execution_count": 13,
     "metadata": {},
     "output_type": "execute_result"
    }
   ],
   "source": [
    "from feature_selection import FeatureSelection\n",
    "fs = FeatureSelection(X[:, :-1], labels[:-1], X[:, -1], 'forest').run()\n",
    "fs"
   ]
  },
  {
   "cell_type": "code",
   "execution_count": 14,
   "metadata": {},
   "outputs": [
    {
     "data": {
      "image/png": "[encoded data removed]",
      "text/plain": [
       "<Figure size 640x480 with 1 Axes>"
      ]
     },
     "metadata": {},
     "output_type": "display_data"
    }
   ],
   "source": [
    "import matplotlib.pyplot as plt\n",
    "for f in fs:\n",
    "    plt.barh(f[0], f[1], color='orange')"
   ]
  }
 ],
 "metadata": {
  "kernelspec": {
   "display_name": "Python 3.10.8 64-bit",
   "language": "python",
   "name": "python3"
  },
  "language_info": {
   "codemirror_mode": {
    "name": "ipython",
    "version": 3
   },
   "file_extension": ".py",
   "mimetype": "text/x-python",
   "name": "python",
   "nbconvert_exporter": "python",
   "pygments_lexer": "ipython3",
   "version": "3.10.8"
  },
  "orig_nbformat": 4,
  "vscode": {
   "interpreter": {
    "hash": "e7370f93d1d0cde622a1f8e1c04877d8463912d04d973331ad4851f04de6915a"
   }
  }
 },
 "nbformat": 4,
 "nbformat_minor": 2
}
