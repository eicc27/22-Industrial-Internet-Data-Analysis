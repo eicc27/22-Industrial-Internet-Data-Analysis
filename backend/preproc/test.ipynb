{
 "cells": [
  {
   "cell_type": "code",
   "execution_count": 12,
   "metadata": {},
   "outputs": [
    {
     "name": "stdout",
     "output_type": "stream",
     "text": [
      "[\u001b[90mTue Dec 13 21:53:11 2022\u001b[0m] [\u001b[34minfo\u001b[0m] CSV file ../hp.csv detected.\n",
      "[\u001b[90mTue Dec 13 21:53:11 2022\u001b[0m] [\u001b[32mok\u001b[0m] Loaded dataset in ../hp.csv, head & first 2 rows:\n",
      "Index([' CRIM', 'ZN', 'INDUS', 'CHAS', 'NOX', 'RM', 'AGE', 'DIS', 'RAD', 'TAX',\n",
      "       'PTRATIO', 'B', 'LSTAT', 'MEDV'],\n",
      "      dtype='object')\n",
      "      CRIM    ZN  INDUS  CHAS    NOX     RM   AGE     DIS  RAD  TAX  PTRATIO  \\\n",
      "0  0.00632  18.0   2.31   0.0  0.538  6.575  65.2  4.0900    1  296     15.3   \n",
      "1  0.02731   0.0   7.07   0.0  0.469  6.421  78.9  4.9671    2  242     17.8   \n",
      "\n",
      "       B  LSTAT  MEDV  \n",
      "0  396.9   4.98  24.0  \n",
      "1  396.9   9.14  21.6  \n",
      "[' CRIM' 'ZN' 'INDUS' 'CHAS' 'NOX' 'RM' 'AGE' 'DIS' 'RAD' 'TAX' 'PTRATIO'\n",
      " 'B' 'LSTAT' 'MEDV']\n"
     ]
    }
   ],
   "source": [
    "import numpy as np\n",
    "import os\n",
    "import sys\n",
    "sys.path.append(os.path.abspath('..'))\n",
    "from preproc.dataloader import Dataloader\n",
    "data  = Dataloader(\"../hp.csv\").load()\n",
    "labels = data.columns.values\n",
    "X = data.to_numpy()\n",
    "print(labels)"
   ]
  },
  {
   "cell_type": "code",
   "execution_count": 13,
   "metadata": {},
   "outputs": [
    {
     "name": "stdout",
     "output_type": "stream",
     "text": [
      "[\u001b[90mTue Dec 13 21:53:11 2022\u001b[0m] [\u001b[33mwarn\u001b[0m] The column(idx. 0) is not suitable for classification. Turned to RF-Regressor instead.\n",
      "[\u001b[90mTue Dec 13 21:53:12 2022\u001b[0m] [\u001b[33mwarn\u001b[0m] The column(idx. 1) is not suitable for classification. Turned to RF-Regressor instead.\n",
      "[\u001b[90mTue Dec 13 21:53:12 2022\u001b[0m] [\u001b[33mwarn\u001b[0m] The column(idx. 2) is not suitable for classification. Turned to RF-Regressor instead.\n",
      "[\u001b[90mTue Dec 13 21:53:12 2022\u001b[0m] [\u001b[33mwarn\u001b[0m] Every data in this column(idx. 4) has a value. Skipped.\n",
      "[\u001b[90mTue Dec 13 21:53:12 2022\u001b[0m] [\u001b[33mwarn\u001b[0m] Every data in this column(idx. 5) has a value. Skipped.\n",
      "[\u001b[90mTue Dec 13 21:53:12 2022\u001b[0m] [\u001b[33mwarn\u001b[0m] The column(idx. 6) is not suitable for classification. Turned to RF-Regressor instead.\n",
      "[\u001b[90mTue Dec 13 21:53:12 2022\u001b[0m] [\u001b[33mwarn\u001b[0m] Every data in this column(idx. 7) has a value. Skipped.\n",
      "[\u001b[90mTue Dec 13 21:53:12 2022\u001b[0m] [\u001b[33mwarn\u001b[0m] Every data in this column(idx. 8) has a value. Skipped.\n",
      "[\u001b[90mTue Dec 13 21:53:12 2022\u001b[0m] [\u001b[33mwarn\u001b[0m] Every data in this column(idx. 9) has a value. Skipped.\n",
      "[\u001b[90mTue Dec 13 21:53:12 2022\u001b[0m] [\u001b[33mwarn\u001b[0m] Every data in this column(idx. 10) has a value. Skipped.\n",
      "[\u001b[90mTue Dec 13 21:53:12 2022\u001b[0m] [\u001b[33mwarn\u001b[0m] Every data in this column(idx. 11) has a value. Skipped.\n",
      "[\u001b[90mTue Dec 13 21:53:12 2022\u001b[0m] [\u001b[33mwarn\u001b[0m] The column(idx. 12) is not suitable for classification. Turned to RF-Regressor instead.\n"
     ]
    }
   ],
   "source": [
    "from padding import Padding\n",
    "for i, _ in enumerate(labels[:-1]):\n",
    "    X = Padding(X, i, 'forestc').run()\n",
    "# import pandas as pd\n",
    "# pd.DataFrame(X).to_csv('./t.csv')"
   ]
  },
  {
   "cell_type": "code",
   "execution_count": 14,
   "metadata": {},
   "outputs": [],
   "source": [
    "from normalization import Norm\n",
    "for i, _ in enumerate(labels[:-1]):\n",
    "    if i == 3:\n",
    "        continue\n",
    "    X = Norm(X, i, 'zscore').run()\n",
    "# import pandas as pd\n",
    "# pd.DataFrame(X).to_csv('./t.csv')"
   ]
  },
  {
   "cell_type": "code",
   "execution_count": 15,
   "metadata": {},
   "outputs": [],
   "source": [
    "from sifting import Sifting\n",
    "idx = len(labels) - 1\n",
    "X = Sifting(X, 'if', idx).run()\n",
    "# import pandas as pd\n",
    "# pd.DataFrame(X).to_csv('./t.csv')"
   ]
  },
  {
   "cell_type": "code",
   "execution_count": 37,
   "metadata": {},
   "outputs": [
    {
     "data": {
      "text/plain": [
       "[('LSTAT', 0.5598600933475201),\n",
       " ('RM', 0.48781583677461615),\n",
       " ('NOX', 0.459731918146023),\n",
       " ('INDUS', 0.45578441421143345),\n",
       " ('PTRATIO', 0.4168144539445483),\n",
       " ('TAX', 0.3475833815372534),\n",
       " (' CRIM', 0.312233932411149),\n",
       " ('RAD', 0.28912019021215507),\n",
       " ('ZN', 0.10762047395776939),\n",
       " ('B', 0.07078145074232581),\n",
       " ('AGE', 0.052788986156019825),\n",
       " ('CHAS', -0.010731181222182407),\n",
       " ('DIS', -0.13226546477393386)]"
      ]
     },
     "execution_count": 37,
     "metadata": {},
     "output_type": "execute_result"
    }
   ],
   "source": [
    "from feature_selection import FeatureSelection\n",
    "fs = FeatureSelection(X[:, :-1], labels[:-1], X[:, -1], 'forest').run()\n",
    "fs"
   ]
  },
  {
   "cell_type": "code",
   "execution_count": 41,
   "metadata": {},
   "outputs": [
    {
     "ename": "TypeError",
     "evalue": "Figure.savefig() missing 1 required positional argument: 'fname'",
     "output_type": "error",
     "traceback": [
      "\u001b[0;31m---------------------------------------------------------------------------\u001b[0m",
      "\u001b[0;31mTypeError\u001b[0m                                 Traceback (most recent call last)",
      "Cell \u001b[0;32mIn[41], line 4\u001b[0m\n\u001b[1;32m      2\u001b[0m \u001b[39mfor\u001b[39;00m f \u001b[39min\u001b[39;00m fs:\n\u001b[1;32m      3\u001b[0m     plt\u001b[39m.\u001b[39mbarh(f[\u001b[39m0\u001b[39m], f[\u001b[39m1\u001b[39m], color\u001b[39m=\u001b[39m\u001b[39m'\u001b[39m\u001b[39morange\u001b[39m\u001b[39m'\u001b[39m)\n\u001b[0;32m----> 4\u001b[0m plt\u001b[39m.\u001b[39;49msavefig()\n",
      "File \u001b[0;32m~/.local/lib/python3.10/site-packages/matplotlib/pyplot.py:954\u001b[0m, in \u001b[0;36msavefig\u001b[0;34m(*args, **kwargs)\u001b[0m\n\u001b[1;32m    951\u001b[0m \u001b[39m@_copy_docstring_and_deprecators\u001b[39m(Figure\u001b[39m.\u001b[39msavefig)\n\u001b[1;32m    952\u001b[0m \u001b[39mdef\u001b[39;00m \u001b[39msavefig\u001b[39m(\u001b[39m*\u001b[39margs, \u001b[39m*\u001b[39m\u001b[39m*\u001b[39mkwargs):\n\u001b[1;32m    953\u001b[0m     fig \u001b[39m=\u001b[39m gcf()\n\u001b[0;32m--> 954\u001b[0m     res \u001b[39m=\u001b[39m fig\u001b[39m.\u001b[39;49msavefig(\u001b[39m*\u001b[39;49margs, \u001b[39m*\u001b[39;49m\u001b[39m*\u001b[39;49mkwargs)\n\u001b[1;32m    955\u001b[0m     fig\u001b[39m.\u001b[39mcanvas\u001b[39m.\u001b[39mdraw_idle()  \u001b[39m# Need this if 'transparent=True', to reset colors.\u001b[39;00m\n\u001b[1;32m    956\u001b[0m     \u001b[39mreturn\u001b[39;00m res\n",
      "\u001b[0;31mTypeError\u001b[0m: Figure.savefig() missing 1 required positional argument: 'fname'"
     ]
    },
    {
     "data": {
      "image/png": "[encoded data removed]",
      "text/plain": [
       "<Figure size 640x480 with 1 Axes>"
      ]
     },
     "metadata": {},
     "output_type": "display_data"
    }
   ],
   "source": [
    "import matplotlib.pyplot as plt\n",
    "for f in fs:\n",
    "    plt.barh(f[0], f[1], color='orange')\n",
    "plt.savefig()"
   ]
  }
 ],
 "metadata": {
  "kernelspec": {
   "display_name": "Python 3.10.8 64-bit",
   "language": "python",
   "name": "python3"
  },
  "language_info": {
   "codemirror_mode": {
    "name": "ipython",
    "version": 3
   },
   "file_extension": ".py",
   "mimetype": "text/x-python",
   "name": "python",
   "nbconvert_exporter": "python",
   "pygments_lexer": "ipython3",
   "version": "3.10.8"
  },
  "orig_nbformat": 4,
  "vscode": {
   "interpreter": {
    "hash": "e7370f93d1d0cde622a1f8e1c04877d8463912d04d973331ad4851f04de6915a"
   }
  }
 },
 "nbformat": 4,
 "nbformat_minor": 2
}
